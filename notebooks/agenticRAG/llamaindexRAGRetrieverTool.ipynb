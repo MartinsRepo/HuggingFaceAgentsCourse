{
 "cells": [
  {
   "cell_type": "code",
   "execution_count": 12,
   "metadata": {},
   "outputs": [],
   "source": [
    "from llama_index.core.tools import FunctionTool\n",
    "from llama_index.retrievers.bm25 import BM25Retriever\n",
    "import datasets\n",
    "from llama_index.core.schema import Document\n",
    "from llama_index.core.agent.workflow import AgentWorkflow\n",
    "from llama_index.llms.openai import OpenAI"
   ]
  },
  {
   "cell_type": "code",
   "execution_count": 11,
   "metadata": {},
   "outputs": [],
   "source": [
    "import os\n",
    "from dotenv import load_dotenv\n",
    "\n",
    "load_dotenv()  # Load environment variables from .env file\n",
    "\n",
    "open_api_key = os.getenv('OPENAI_API_KEY')"
   ]
  },
  {
   "cell_type": "code",
   "execution_count": 7,
   "metadata": {},
   "outputs": [],
   "source": [
    "# Load the dataset\n",
    "guest_dataset = datasets.load_dataset(\"agents-course/unit3-invitees\", split=\"train\")\n",
    "\n",
    "# Convert dataset entries into Document objects\n",
    "docs = [\n",
    "    Document(\n",
    "        text=\"\\n\".join([\n",
    "            f\"Name: {guest_dataset['name'][i]}\",\n",
    "            f\"Relation: {guest_dataset['relation'][i]}\",\n",
    "            f\"Description: {guest_dataset['description'][i]}\",\n",
    "            f\"Email: {guest_dataset['email'][i]}\"\n",
    "        ]),\n",
    "        metadata={\"name\": guest_dataset['name'][i]}\n",
    "    )\n",
    "    for i in range(len(guest_dataset))\n",
    "]"
   ]
  },
  {
   "cell_type": "code",
   "execution_count": 8,
   "metadata": {},
   "outputs": [],
   "source": [
    "\n",
    "bm25_retriever = BM25Retriever.from_defaults(nodes=docs)"
   ]
  },
  {
   "cell_type": "code",
   "execution_count": 9,
   "metadata": {},
   "outputs": [],
   "source": [
    "def get_guest_info_retriever(query: str) -> str:\n",
    "    \"\"\"Retrieves detailed information about gala guests based on their name or relation.\"\"\"\n",
    "    results = bm25_retriever.retrieve(query)\n",
    "    if results:\n",
    "        return \"\\n\\n\".join([doc.text for doc in results[:3]])\n",
    "    else:\n",
    "        return \"No matching guest information found.\"\n",
    "\n",
    "# Initialize the tool\n",
    "guest_info_tool = FunctionTool.from_defaults(get_guest_info_retriever)"
   ]
  },
  {
   "cell_type": "code",
   "execution_count": 14,
   "metadata": {},
   "outputs": [],
   "source": [
    "# Initialize the model with the required parameters\n",
    "openai_model_name =  \"gpt-4o-mini\"\n",
    "llm = OpenAI(model=openai_model_name, api_key=open_api_key)"
   ]
  },
  {
   "cell_type": "code",
   "execution_count": 15,
   "metadata": {},
   "outputs": [
    {
     "name": "stdout",
     "output_type": "stream",
     "text": [
      "🎩 Alfred's Response:\n",
      "Lady Ada Lovelace is your best friend and an esteemed mathematician. She is renowned for her pioneering work in mathematics and computing, often celebrated as the first computer programmer due to her contributions to Charles Babbage's Analytical Engine. \n",
      "\n",
      "Here are her details:\n",
      "- **Name:** Ada Lovelace\n",
      "- **Relation:** Best friend\n",
      "- **Description:** Renowned mathematician and the first computer programmer.\n",
      "- **Email:** ada.lovelace@example.com\n",
      "\n",
      "If you need more information or have any specific questions about her, feel free to ask!\n"
     ]
    }
   ],
   "source": [
    "# Create Alfred, our gala agent, with the guest info tool\n",
    "alfred = AgentWorkflow.from_tools_or_functions(\n",
    "    [guest_info_tool],\n",
    "    llm=llm,\n",
    ")\n",
    "\n",
    "# Example query Alfred might receive during the gala\n",
    "response = await alfred.run(\"Tell me about our guest named 'Lady Ada Lovelace'.\")\n",
    "\n",
    "print(\"🎩 Alfred's Response:\")\n",
    "print(response)"
   ]
  }
 ],
 "metadata": {
  "kernelspec": {
   "display_name": "agenticRAG",
   "language": "python",
   "name": "python3"
  },
  "language_info": {
   "codemirror_mode": {
    "name": "ipython",
    "version": 3
   },
   "file_extension": ".py",
   "mimetype": "text/x-python",
   "name": "python",
   "nbconvert_exporter": "python",
   "pygments_lexer": "ipython3",
   "version": "3.12.9"
  }
 },
 "nbformat": 4,
 "nbformat_minor": 2
}
